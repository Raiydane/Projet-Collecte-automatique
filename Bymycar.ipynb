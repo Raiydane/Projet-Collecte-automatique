{
 "cells": [
  {
   "cell_type": "code",
   "execution_count": 1,
   "metadata": {},
   "outputs": [],
   "source": [
    "############ Reprendre avec les codes de autoscout24"
   ]
  },
  {
   "cell_type": "code",
   "execution_count": 2,
   "metadata": {},
   "outputs": [],
   "source": [
    "##Commencement : importer les packages\n",
    "\n",
    "import requests \n",
    "import pandas as pd\n",
    "import json   \n",
    "from bs4 import BeautifulSoup \n",
    "from urllib.request import urlopen\n",
    "import re\n"
   ]
  },
  {
   "cell_type": "code",
   "execution_count": 3,
   "metadata": {},
   "outputs": [],
   "source": [
    "website = \"https://www.bymycar.fr/v/voiture-occasion?itemsperpage=24&sortingorder=ascending&filter=marque-du-vehicule%3Amercedes\""
   ]
  },
  {
   "cell_type": "code",
   "execution_count": 4,
   "metadata": {},
   "outputs": [],
   "source": [
    "response = requests.get(website)"
   ]
  },
  {
   "cell_type": "code",
   "execution_count": 5,
   "metadata": {},
   "outputs": [],
   "source": [
    "soup = BeautifulSoup(response.content,\"html.parser\")"
   ]
  },
  {
   "cell_type": "code",
   "execution_count": 6,
   "metadata": {},
   "outputs": [],
   "source": [
    "results = soup.find_all(\"a\",{\"class\" : \"product-item\" })"
   ]
  },
  {
   "cell_type": "code",
   "execution_count": 7,
   "metadata": {},
   "outputs": [
    {
     "data": {
      "text/plain": [
       "24"
      ]
     },
     "execution_count": 7,
     "metadata": {},
     "output_type": "execute_result"
    }
   ],
   "source": [
    "len(results)"
   ]
  },
  {
   "cell_type": "code",
   "execution_count": 8,
   "metadata": {},
   "outputs": [],
   "source": [
    "############### exemple "
   ]
  },
  {
   "cell_type": "code",
   "execution_count": 9,
   "metadata": {},
   "outputs": [],
   "source": [
    "############## création boucle pour récupérer :\n",
    "\n",
    "\n",
    "# Modèle \n",
    "\n",
    "# détails du modèle\n",
    "\n",
    "# Prix \n",
    "\n",
    "# type de véhicule ( consommation )\n",
    "\n",
    "# Nombre de kilométrage \n",
    "\n",
    "# Année \n",
    "\n",
    "# boite de vitesse \n",
    "\n",
    "# (complémentaire : récuperer le co2 pour une méilleure analyse)\n"
   ]
  },
  {
   "cell_type": "code",
   "execution_count": 10,
   "metadata": {},
   "outputs": [],
   "source": [
    "modele = []\n",
    "detail = []\n",
    "prix = []\n",
    "type_v = []\n",
    "boite_v = []\n",
    "\n",
    "for i in range(1,10):\n",
    "    \n",
    "    # website dans une variable\n",
    "    website = \"https://www.bymycar.fr/v/voiture-occasion?filter=marque-du-vehicule%3Amercedes&sortingorder=ascending&itemsperpage=24&display=grid&pagenumber=\"+str(i)\n",
    "\n",
    "    # resquest au website\n",
    "    response = requests.get(website)\n",
    "    \n",
    "    # soup object\n",
    "    soup = BeautifulSoup(response.content,\"html.parser\")\n",
    "    \n",
    "    #result\n",
    "    results = soup.find_all(\"a\",{\"class\" : \"product-item\"})\n",
    "    \n",
    "\n",
    "    for result in results :\n",
    "\n",
    "      try:\n",
    "\n",
    "        modele.append(result.find(\"h2\",{\"class\":\"product__title\"}).get_text())\n",
    "\n",
    "      except:\n",
    "        modele.append('n/a')\n",
    "\n",
    "      try:\n",
    "\n",
    "        detail.append(result.find(\"p\",{\"class\" : \"product__type\" }).get_text())\n",
    "\n",
    "      except:\n",
    "        detail.append('n/a')  \n",
    "\n",
    "      try:\n",
    "\n",
    "        prix.append(result.find(\"div\",{\"class\":\"product__price_current\"}).get_text())\n",
    "\n",
    "      except:\n",
    "        prix.append('n/a')\n",
    "\n",
    "      try:\n",
    "\n",
    "        type_v.append(result.find(\"ul\",{\"class\" : \"product__characteristics\" }).get_text())\n",
    "\n",
    "      except:\n",
    "        type_v.append('n/a')      \n",
    "\n",
    "      try:\n",
    "\n",
    "        boite_v.append(result.find(\"ul\",{\"class\" : \"product__features_list\" }).get_text())\n",
    "\n",
    "      except:\n",
    "        boite_v.append('n/a')    \n"
   ]
  },
  {
   "cell_type": "code",
   "execution_count": 11,
   "metadata": {},
   "outputs": [],
   "source": [
    "car_dealer = pd.DataFrame({\"Modele\":modele , \"Info vehicule\":detail ,\"Prix\" :prix,\n",
    "                           \"type_vehicule\":type_v,\"puissance\":boite_v})"
   ]
  },
  {
   "cell_type": "code",
   "execution_count": 12,
   "metadata": {},
   "outputs": [],
   "source": [
    "##### clean les colonnes du dataframe\n",
    "car_dealer[\"type_vehicule\"] = car_dealer[\"type_vehicule\"].str.lstrip(\"\\n\")"
   ]
  },
  {
   "cell_type": "code",
   "execution_count": 13,
   "metadata": {},
   "outputs": [],
   "source": [
    "car_dealer[\"Nombre de kilometre\"] = car_dealer[\"type_vehicule\"].str.split(\"km\", expand = True)[0]"
   ]
  },
  {
   "cell_type": "code",
   "execution_count": 14,
   "metadata": {},
   "outputs": [],
   "source": [
    "def extract_after_word(string, word):\n",
    "    if word in string:\n",
    "        return string[string.index(word)+len(word):string.index(word)+len(word)+16]\n",
    "    else:\n",
    "        return None"
   ]
  },
  {
   "cell_type": "code",
   "execution_count": 15,
   "metadata": {},
   "outputs": [],
   "source": [
    "car_dealer['Annee_sortie'] = car_dealer['type_vehicule'].apply(lambda x: extract_after_word(x,\"km\"))"
   ]
  },
  {
   "cell_type": "code",
   "execution_count": 16,
   "metadata": {},
   "outputs": [],
   "source": [
    "def keep_digits(string):\n",
    "    return ''.join(filter(str.isdigit, string))"
   ]
  },
  {
   "cell_type": "code",
   "execution_count": 17,
   "metadata": {},
   "outputs": [],
   "source": [
    "car_dealer['Annee_sortie'] = car_dealer['Annee_sortie'].apply(keep_digits)"
   ]
  },
  {
   "cell_type": "code",
   "execution_count": 18,
   "metadata": {},
   "outputs": [],
   "source": [
    "del car_dealer[\"type_vehicule\"]"
   ]
  },
  {
   "cell_type": "code",
   "execution_count": 19,
   "metadata": {},
   "outputs": [],
   "source": [
    "def extract_before_word(string, word):\n",
    "    if word in string:\n",
    "        return string[string.index(word)-4:string.index(word)]\n",
    "    else:\n",
    "        return None"
   ]
  },
  {
   "cell_type": "code",
   "execution_count": 20,
   "metadata": {},
   "outputs": [],
   "source": [
    "car_dealer['puissance_chevaux'] = car_dealer['puissance'].apply(lambda x: extract_before_word(x, \"cv\"))"
   ]
  },
  {
   "cell_type": "code",
   "execution_count": 21,
   "metadata": {},
   "outputs": [],
   "source": [
    "del car_dealer[\"puissance\"]"
   ]
  },
  {
   "cell_type": "code",
   "execution_count": 22,
   "metadata": {},
   "outputs": [],
   "source": [
    "car_dealer['Marque'] = \"Mercedes\""
   ]
  },
  {
   "cell_type": "code",
   "execution_count": 23,
   "metadata": {},
   "outputs": [],
   "source": [
    "car_dealer = car_dealer.reindex(columns=['Marque', 'Modele', 'Info vehicule','Prix', 'Nombre de kilometre', 'Annee_sortie',\n",
    "                                         'puissance_chevaux'])\n"
   ]
  },
  {
   "cell_type": "code",
   "execution_count": 24,
   "metadata": {},
   "outputs": [],
   "source": [
    "car_dealer['Prix'] = car_dealer['Prix'].apply(keep_digits)"
   ]
  },
  {
   "cell_type": "code",
   "execution_count": 25,
   "metadata": {},
   "outputs": [
    {
     "data": {
      "text/html": [
       "<div>\n",
       "<style scoped>\n",
       "    .dataframe tbody tr th:only-of-type {\n",
       "        vertical-align: middle;\n",
       "    }\n",
       "\n",
       "    .dataframe tbody tr th {\n",
       "        vertical-align: top;\n",
       "    }\n",
       "\n",
       "    .dataframe thead th {\n",
       "        text-align: right;\n",
       "    }\n",
       "</style>\n",
       "<table border=\"1\" class=\"dataframe\">\n",
       "  <thead>\n",
       "    <tr style=\"text-align: right;\">\n",
       "      <th></th>\n",
       "      <th>Marque</th>\n",
       "      <th>Modele</th>\n",
       "      <th>Info vehicule</th>\n",
       "      <th>Prix</th>\n",
       "      <th>Nombre de kilometre</th>\n",
       "      <th>Annee_sortie</th>\n",
       "      <th>puissance_chevaux</th>\n",
       "    </tr>\n",
       "  </thead>\n",
       "  <tbody>\n",
       "    <tr>\n",
       "      <th>0</th>\n",
       "      <td>Mercedes</td>\n",
       "      <td>Classe B 200 d 8G-DCT</td>\n",
       "      <td>DIESEL</td>\n",
       "      <td>33990</td>\n",
       "      <td>62568</td>\n",
       "      <td>2000</td>\n",
       "      <td>150</td>\n",
       "    </tr>\n",
       "    <tr>\n",
       "      <th>1</th>\n",
       "      <td>Mercedes</td>\n",
       "      <td>GLC 300 de 9G-Tronic 4Matic</td>\n",
       "      <td>Hybride</td>\n",
       "      <td>72900</td>\n",
       "      <td>10000</td>\n",
       "      <td>2022</td>\n",
       "      <td>194</td>\n",
       "    </tr>\n",
       "    <tr>\n",
       "      <th>2</th>\n",
       "      <td>Mercedes</td>\n",
       "      <td>EQC 400 4Matic</td>\n",
       "      <td>Électrique</td>\n",
       "      <td>69998</td>\n",
       "      <td>28996</td>\n",
       "      <td>2020</td>\n",
       "      <td>408</td>\n",
       "    </tr>\n",
       "    <tr>\n",
       "      <th>3</th>\n",
       "      <td>Mercedes</td>\n",
       "      <td>Classe V Long 220 d 7G-TRONIC PLUS</td>\n",
       "      <td>DIESEL</td>\n",
       "      <td>36793</td>\n",
       "      <td>169744</td>\n",
       "      <td>2016</td>\n",
       "      <td>163</td>\n",
       "    </tr>\n",
       "    <tr>\n",
       "      <th>4</th>\n",
       "      <td>Mercedes</td>\n",
       "      <td>Classe CLS 400d 4Matic 9G-Tronic</td>\n",
       "      <td>DIESEL</td>\n",
       "      <td>89900</td>\n",
       "      <td>23500</td>\n",
       "      <td>2021</td>\n",
       "      <td>330</td>\n",
       "    </tr>\n",
       "    <tr>\n",
       "      <th>...</th>\n",
       "      <td>...</td>\n",
       "      <td>...</td>\n",
       "      <td>...</td>\n",
       "      <td>...</td>\n",
       "      <td>...</td>\n",
       "      <td>...</td>\n",
       "      <td>...</td>\n",
       "    </tr>\n",
       "    <tr>\n",
       "      <th>211</th>\n",
       "      <td>Mercedes</td>\n",
       "      <td>Classe A 180 d 7G-DCT</td>\n",
       "      <td>DIESEL</td>\n",
       "      <td>32990</td>\n",
       "      <td>20710</td>\n",
       "      <td>2021</td>\n",
       "      <td>116</td>\n",
       "    </tr>\n",
       "    <tr>\n",
       "      <th>212</th>\n",
       "      <td>Mercedes</td>\n",
       "      <td>Classe A 180 d 8G-DCT</td>\n",
       "      <td>DIESEL</td>\n",
       "      <td>46900</td>\n",
       "      <td>10000</td>\n",
       "      <td>2022</td>\n",
       "      <td>116</td>\n",
       "    </tr>\n",
       "    <tr>\n",
       "      <th>213</th>\n",
       "      <td>Mercedes</td>\n",
       "      <td>Classe GLE Coupé 350 de 9G-Tronic 4Matic</td>\n",
       "      <td>Hybride</td>\n",
       "      <td>92199</td>\n",
       "      <td>35588</td>\n",
       "      <td>2021</td>\n",
       "      <td>194</td>\n",
       "    </tr>\n",
       "    <tr>\n",
       "      <th>214</th>\n",
       "      <td>Mercedes</td>\n",
       "      <td>GLC Coupé 300 e 9G-Tronic 4Matic</td>\n",
       "      <td>Hybride</td>\n",
       "      <td>64861</td>\n",
       "      <td>64586</td>\n",
       "      <td>2020</td>\n",
       "      <td>211</td>\n",
       "    </tr>\n",
       "    <tr>\n",
       "      <th>215</th>\n",
       "      <td>Mercedes</td>\n",
       "      <td>CLA Coupé 35 AMG 7G-DCT AMG 4Matic</td>\n",
       "      <td>Essence</td>\n",
       "      <td>52890</td>\n",
       "      <td>45410</td>\n",
       "      <td>2019</td>\n",
       "      <td>306</td>\n",
       "    </tr>\n",
       "  </tbody>\n",
       "</table>\n",
       "<p>216 rows × 7 columns</p>\n",
       "</div>"
      ],
      "text/plain": [
       "       Marque                                    Modele Info vehicule   Prix  \\\n",
       "0    Mercedes                     Classe B 200 d 8G-DCT        DIESEL  33990   \n",
       "1    Mercedes               GLC 300 de 9G-Tronic 4Matic       Hybride  72900   \n",
       "2    Mercedes                            EQC 400 4Matic    Électrique  69998   \n",
       "3    Mercedes        Classe V Long 220 d 7G-TRONIC PLUS        DIESEL  36793   \n",
       "4    Mercedes          Classe CLS 400d 4Matic 9G-Tronic        DIESEL  89900   \n",
       "..        ...                                       ...           ...    ...   \n",
       "211  Mercedes                     Classe A 180 d 7G-DCT        DIESEL  32990   \n",
       "212  Mercedes                     Classe A 180 d 8G-DCT        DIESEL  46900   \n",
       "213  Mercedes  Classe GLE Coupé 350 de 9G-Tronic 4Matic       Hybride  92199   \n",
       "214  Mercedes          GLC Coupé 300 e 9G-Tronic 4Matic       Hybride  64861   \n",
       "215  Mercedes        CLA Coupé 35 AMG 7G-DCT AMG 4Matic       Essence  52890   \n",
       "\n",
       "       Nombre de kilometre Annee_sortie puissance_chevaux  \n",
       "0                   62568          2000               150  \n",
       "1                   10000          2022               194  \n",
       "2                   28996          2020               408  \n",
       "3                  169744          2016               163  \n",
       "4                   23500          2021               330  \n",
       "..                     ...          ...               ...  \n",
       "211                 20710          2021               116  \n",
       "212                 10000          2022               116  \n",
       "213                 35588          2021               194  \n",
       "214                 64586          2020               211  \n",
       "215                 45410          2019               306  \n",
       "\n",
       "[216 rows x 7 columns]"
      ]
     },
     "execution_count": 25,
     "metadata": {},
     "output_type": "execute_result"
    }
   ],
   "source": [
    "car_dealer"
   ]
  }
 ],
 "metadata": {
  "kernelspec": {
   "display_name": "Python 3",
   "language": "python",
   "name": "python3"
  },
  "language_info": {
   "codemirror_mode": {
    "name": "ipython",
    "version": 3
   },
   "file_extension": ".py",
   "mimetype": "text/x-python",
   "name": "python",
   "nbconvert_exporter": "python",
   "pygments_lexer": "ipython3",
   "version": "3.7.6"
  }
 },
 "nbformat": 4,
 "nbformat_minor": 4
}
