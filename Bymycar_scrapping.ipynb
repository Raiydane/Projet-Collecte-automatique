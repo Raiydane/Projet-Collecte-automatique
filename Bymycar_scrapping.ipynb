{
 "cells": [
  {
   "cell_type": "code",
   "execution_count": 1,
   "metadata": {},
   "outputs": [],
   "source": [
    "##Commencement : importer les packages\n",
    "\n",
    "import requests \n",
    "import pandas as pd\n",
    "import json   \n",
    "from bs4 import BeautifulSoup \n",
    "from urllib.request import urlopen\n",
    "import re\n"
   ]
  },
  {
   "cell_type": "code",
   "execution_count": 2,
   "metadata": {},
   "outputs": [],
   "source": [
    "website = \"https://www.bymycar.fr/v/voiture-occasion?itemsperpage=24&sortingorder=ascending&filter=marque-du-vehicule%3Amercedes\""
   ]
  },
  {
   "cell_type": "code",
   "execution_count": 3,
   "metadata": {},
   "outputs": [],
   "source": [
    "response = requests.get(website)"
   ]
  },
  {
   "cell_type": "code",
   "execution_count": 4,
   "metadata": {},
   "outputs": [],
   "source": [
    "soup = BeautifulSoup(response.content,\"html.parser\")"
   ]
  },
  {
   "cell_type": "code",
   "execution_count": 5,
   "metadata": {},
   "outputs": [],
   "source": [
    "results = soup.find_all(\"a\",{\"class\" : \"product-item\" })"
   ]
  },
  {
   "cell_type": "code",
   "execution_count": 6,
   "metadata": {},
   "outputs": [
    {
     "data": {
      "text/plain": [
       "24"
      ]
     },
     "execution_count": 6,
     "metadata": {},
     "output_type": "execute_result"
    }
   ],
   "source": [
    "len(results)"
   ]
  },
  {
   "cell_type": "code",
   "execution_count": 7,
   "metadata": {},
   "outputs": [],
   "source": [
    "############## création boucle pour récupérer sur le véhicule :\n",
    "\n",
    "\n",
    "# Marque \n",
    "\n",
    "# Modele\n",
    "\n",
    "# Info vehicule \n",
    "\n",
    "# Prix\n",
    "\n",
    "# Nombre de kilométrage \n",
    "\n",
    "# Année \n",
    "\n",
    "# puissance_chevaux\n"
   ]
  },
  {
   "cell_type": "markdown",
   "metadata": {},
   "source": [
    "### Création d'une boucle pour récupérer les informations en ciblant les balises et les classes"
   ]
  },
  {
   "cell_type": "code",
   "execution_count": 8,
   "metadata": {},
   "outputs": [],
   "source": [
    "modele = []\n",
    "detail = []\n",
    "prix = []\n",
    "type_v = []\n",
    "boite_v = []\n",
    "\n",
    "for i in range(1,20):\n",
    "    \n",
    "    # website dans une variable\n",
    "    website = \"https://www.bymycar.fr/v/voiture-occasion?filter=marque-du-vehicule%3Amercedes&sortingorder=ascending&itemsperpage=24&display=grid&pagenumber=\"+str(i)\n",
    "\n",
    "    # resquest au website\n",
    "    response = requests.get(website)\n",
    "    \n",
    "    # soup object\n",
    "    soup = BeautifulSoup(response.content,\"html.parser\")\n",
    "    \n",
    "    #result\n",
    "    results = soup.find_all(\"a\",{\"class\" : \"product-item\"})\n",
    "    \n",
    "\n",
    "    for result in results :\n",
    "\n",
    "      try:\n",
    "\n",
    "        modele.append(result.find(\"h2\",{\"class\":\"product__title\"}).get_text())\n",
    "\n",
    "      except:\n",
    "        modele.append('n/a')\n",
    "\n",
    "      try:\n",
    "\n",
    "        detail.append(result.find(\"p\",{\"class\" : \"product__type\" }).get_text())\n",
    "\n",
    "      except:\n",
    "        detail.append('n/a')  \n",
    "\n",
    "      try:\n",
    "\n",
    "        prix.append(result.find(\"div\",{\"class\":\"product__price_current\"}).get_text())\n",
    "\n",
    "      except:\n",
    "        prix.append('n/a')\n",
    "\n",
    "      try:\n",
    "\n",
    "        type_v.append(result.find(\"ul\",{\"class\" : \"product__characteristics\" }).get_text())\n",
    "\n",
    "      except:\n",
    "        type_v.append('n/a')      \n",
    "\n",
    "      try:\n",
    "\n",
    "        boite_v.append(result.find(\"ul\",{\"class\" : \"product__features_list\" }).get_text())\n",
    "\n",
    "      except:\n",
    "        boite_v.append('n/a')    \n"
   ]
  },
  {
   "cell_type": "code",
   "execution_count": 9,
   "metadata": {},
   "outputs": [],
   "source": [
    "car_dealer = pd.DataFrame({\"Modele\":modele , \"Info vehicule\":detail ,\"Prix\" :prix,\n",
    "                           \"type_vehicule\":type_v,\"puissance\":boite_v})"
   ]
  },
  {
   "cell_type": "markdown",
   "metadata": {},
   "source": [
    "### clean les colonnes du dataframe\n",
    "-------------- Nettoyage de la base de données :\n"
   ]
  },
  {
   "cell_type": "code",
   "execution_count": 10,
   "metadata": {},
   "outputs": [],
   "source": [
    "car_dealer[\"type_vehicule\"] = car_dealer[\"type_vehicule\"].str.lstrip(\"\\n\")"
   ]
  },
  {
   "cell_type": "code",
   "execution_count": 11,
   "metadata": {},
   "outputs": [],
   "source": [
    "car_dealer[\"Nombre de kilometre\"] = car_dealer[\"type_vehicule\"].str.split(\"km\", expand = True)[0]"
   ]
  },
  {
   "cell_type": "code",
   "execution_count": 12,
   "metadata": {},
   "outputs": [],
   "source": [
    "def extract_after_word(string, word):\n",
    "    if word in string:\n",
    "        return string[string.index(word)+len(word):string.index(word)+len(word)+16]\n",
    "    else:\n",
    "        return None"
   ]
  },
  {
   "cell_type": "code",
   "execution_count": 13,
   "metadata": {},
   "outputs": [],
   "source": [
    "car_dealer['Annee_sortie'] = car_dealer['type_vehicule'].apply(lambda x: extract_after_word(x,\"km\"))"
   ]
  },
  {
   "cell_type": "code",
   "execution_count": 14,
   "metadata": {},
   "outputs": [],
   "source": [
    "def keep_digits(string):\n",
    "    return ''.join(filter(str.isdigit, string))"
   ]
  },
  {
   "cell_type": "code",
   "execution_count": 15,
   "metadata": {},
   "outputs": [],
   "source": [
    "car_dealer['Annee_sortie'] = car_dealer['Annee_sortie'].apply(keep_digits)"
   ]
  },
  {
   "cell_type": "code",
   "execution_count": 16,
   "metadata": {},
   "outputs": [],
   "source": [
    "del car_dealer[\"type_vehicule\"]"
   ]
  },
  {
   "cell_type": "code",
   "execution_count": 17,
   "metadata": {},
   "outputs": [],
   "source": [
    "def extract_before_word(string, word):\n",
    "    if word in string:\n",
    "        return string[string.index(word)-4:string.index(word)]\n",
    "    else:\n",
    "        return None"
   ]
  },
  {
   "cell_type": "code",
   "execution_count": 18,
   "metadata": {},
   "outputs": [],
   "source": [
    "car_dealer['puissance_chevaux'] = car_dealer['puissance'].apply(lambda x: extract_before_word(x, \"cv\"))"
   ]
  },
  {
   "cell_type": "code",
   "execution_count": 19,
   "metadata": {},
   "outputs": [],
   "source": [
    "del car_dealer[\"puissance\"]"
   ]
  },
  {
   "cell_type": "code",
   "execution_count": 20,
   "metadata": {},
   "outputs": [],
   "source": [
    "car_dealer['Marque'] = \"Mercedes\""
   ]
  },
  {
   "cell_type": "code",
   "execution_count": 21,
   "metadata": {},
   "outputs": [],
   "source": [
    "car_dealer = car_dealer.reindex(columns=['Marque', 'Modele', 'Info vehicule','Prix', 'Nombre de kilometre', 'Annee_sortie',\n",
    "                                         'puissance_chevaux'])\n"
   ]
  },
  {
   "cell_type": "code",
   "execution_count": 22,
   "metadata": {},
   "outputs": [],
   "source": [
    "car_dealer['Prix'] = car_dealer['Prix'].apply(keep_digits)"
   ]
  },
  {
   "cell_type": "code",
   "execution_count": 23,
   "metadata": {},
   "outputs": [
    {
     "data": {
      "text/html": [
       "<div>\n",
       "<style scoped>\n",
       "    .dataframe tbody tr th:only-of-type {\n",
       "        vertical-align: middle;\n",
       "    }\n",
       "\n",
       "    .dataframe tbody tr th {\n",
       "        vertical-align: top;\n",
       "    }\n",
       "\n",
       "    .dataframe thead th {\n",
       "        text-align: right;\n",
       "    }\n",
       "</style>\n",
       "<table border=\"1\" class=\"dataframe\">\n",
       "  <thead>\n",
       "    <tr style=\"text-align: right;\">\n",
       "      <th></th>\n",
       "      <th>Marque</th>\n",
       "      <th>Modele</th>\n",
       "      <th>Info vehicule</th>\n",
       "      <th>Prix</th>\n",
       "      <th>Nombre de kilometre</th>\n",
       "      <th>Annee_sortie</th>\n",
       "      <th>puissance_chevaux</th>\n",
       "    </tr>\n",
       "  </thead>\n",
       "  <tbody>\n",
       "    <tr>\n",
       "      <th>0</th>\n",
       "      <td>Mercedes</td>\n",
       "      <td>Classe A 200 d 8G-DCT</td>\n",
       "      <td>DIESEL</td>\n",
       "      <td>46550</td>\n",
       "      <td>0</td>\n",
       "      <td>2022</td>\n",
       "      <td>150</td>\n",
       "    </tr>\n",
       "    <tr>\n",
       "      <th>1</th>\n",
       "      <td>Mercedes</td>\n",
       "      <td>Classe E 63 S AMG Speedshift TCT AMG 4-Matic+</td>\n",
       "      <td>Essence</td>\n",
       "      <td>95569</td>\n",
       "      <td>28084</td>\n",
       "      <td>2020</td>\n",
       "      <td>612</td>\n",
       "    </tr>\n",
       "    <tr>\n",
       "      <th>2</th>\n",
       "      <td>Mercedes</td>\n",
       "      <td>Classe A 200 7G-DCT</td>\n",
       "      <td>Essence</td>\n",
       "      <td>32480</td>\n",
       "      <td>41096</td>\n",
       "      <td>2019</td>\n",
       "      <td>163</td>\n",
       "    </tr>\n",
       "    <tr>\n",
       "      <th>3</th>\n",
       "      <td>Mercedes</td>\n",
       "      <td>Classe CLS Shooting Brake 220 d</td>\n",
       "      <td>DIESEL</td>\n",
       "      <td>23282</td>\n",
       "      <td>100822</td>\n",
       "      <td>2017</td>\n",
       "      <td>170</td>\n",
       "    </tr>\n",
       "    <tr>\n",
       "      <th>4</th>\n",
       "      <td>Mercedes</td>\n",
       "      <td>GLC 300 de 9G-Tronic 4Matic</td>\n",
       "      <td>Hybride</td>\n",
       "      <td>72900</td>\n",
       "      <td>10000</td>\n",
       "      <td>2022</td>\n",
       "      <td>194</td>\n",
       "    </tr>\n",
       "    <tr>\n",
       "      <th>...</th>\n",
       "      <td>...</td>\n",
       "      <td>...</td>\n",
       "      <td>...</td>\n",
       "      <td>...</td>\n",
       "      <td>...</td>\n",
       "      <td>...</td>\n",
       "      <td>...</td>\n",
       "    </tr>\n",
       "    <tr>\n",
       "      <th>244</th>\n",
       "      <td>Mercedes</td>\n",
       "      <td>Classe A 180 d 8G-DCT</td>\n",
       "      <td>DIESEL</td>\n",
       "      <td>35900</td>\n",
       "      <td>10000</td>\n",
       "      <td>2022</td>\n",
       "      <td>116</td>\n",
       "    </tr>\n",
       "    <tr>\n",
       "      <th>245</th>\n",
       "      <td>Mercedes</td>\n",
       "      <td>Classe V Long 250 d 9G-TRONIC</td>\n",
       "      <td>DIESEL</td>\n",
       "      <td>79900</td>\n",
       "      <td>100</td>\n",
       "      <td>2022</td>\n",
       "      <td>190</td>\n",
       "    </tr>\n",
       "    <tr>\n",
       "      <th>246</th>\n",
       "      <td>Mercedes</td>\n",
       "      <td>GLE Coupé 43 AMG 9G-Tronic 4MATIC</td>\n",
       "      <td>Essence</td>\n",
       "      <td>58647</td>\n",
       "      <td>46399</td>\n",
       "      <td>2017</td>\n",
       "      <td>367</td>\n",
       "    </tr>\n",
       "    <tr>\n",
       "      <th>247</th>\n",
       "      <td>Mercedes</td>\n",
       "      <td>G 63 AMG BVA9</td>\n",
       "      <td>Essence</td>\n",
       "      <td>274990</td>\n",
       "      <td>14990</td>\n",
       "      <td>2022</td>\n",
       "      <td>None</td>\n",
       "    </tr>\n",
       "    <tr>\n",
       "      <th>248</th>\n",
       "      <td>Mercedes</td>\n",
       "      <td>Classe A 200 d 8G-DCT</td>\n",
       "      <td>DIESEL</td>\n",
       "      <td>43300</td>\n",
       "      <td>10000</td>\n",
       "      <td>2022</td>\n",
       "      <td>150</td>\n",
       "    </tr>\n",
       "  </tbody>\n",
       "</table>\n",
       "<p>249 rows × 7 columns</p>\n",
       "</div>"
      ],
      "text/plain": [
       "       Marque                                         Modele Info vehicule  \\\n",
       "0    Mercedes                          Classe A 200 d 8G-DCT        DIESEL   \n",
       "1    Mercedes  Classe E 63 S AMG Speedshift TCT AMG 4-Matic+       Essence   \n",
       "2    Mercedes                            Classe A 200 7G-DCT       Essence   \n",
       "3    Mercedes                Classe CLS Shooting Brake 220 d        DIESEL   \n",
       "4    Mercedes                    GLC 300 de 9G-Tronic 4Matic       Hybride   \n",
       "..        ...                                            ...           ...   \n",
       "244  Mercedes                          Classe A 180 d 8G-DCT        DIESEL   \n",
       "245  Mercedes                  Classe V Long 250 d 9G-TRONIC        DIESEL   \n",
       "246  Mercedes              GLE Coupé 43 AMG 9G-Tronic 4MATIC       Essence   \n",
       "247  Mercedes                                  G 63 AMG BVA9       Essence   \n",
       "248  Mercedes                          Classe A 200 d 8G-DCT        DIESEL   \n",
       "\n",
       "       Prix    Nombre de kilometre Annee_sortie puissance_chevaux  \n",
       "0     46550                     0          2022               150  \n",
       "1     95569                 28084          2020               612  \n",
       "2     32480                 41096          2019               163  \n",
       "3     23282                100822          2017               170  \n",
       "4     72900                 10000          2022               194  \n",
       "..      ...                    ...          ...               ...  \n",
       "244   35900                 10000          2022               116  \n",
       "245   79900                   100          2022               190  \n",
       "246   58647                 46399          2017               367  \n",
       "247  274990                 14990          2022              None  \n",
       "248   43300                 10000          2022               150  \n",
       "\n",
       "[249 rows x 7 columns]"
      ]
     },
     "execution_count": 23,
     "metadata": {},
     "output_type": "execute_result"
    }
   ],
   "source": [
    "car_dealer"
   ]
  },
  {
   "cell_type": "code",
   "execution_count": 25,
   "metadata": {},
   "outputs": [],
   "source": [
    "#exportation sous excel\n",
    "#car_dealer.to_excel(\"Bymycar_excel.xlsx\", index= False)"
   ]
  }
 ],
 "metadata": {
  "kernelspec": {
   "display_name": "Python 3",
   "language": "python",
   "name": "python3"
  },
  "language_info": {
   "codemirror_mode": {
    "name": "ipython",
    "version": 3
   },
   "file_extension": ".py",
   "mimetype": "text/x-python",
   "name": "python",
   "nbconvert_exporter": "python",
   "pygments_lexer": "ipython3",
   "version": "3.7.6"
  }
 },
 "nbformat": 4,
 "nbformat_minor": 4
}
