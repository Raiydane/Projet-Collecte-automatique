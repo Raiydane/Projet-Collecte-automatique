{
 "cells": [
  {
   "cell_type": "code",
   "execution_count": 2,
   "metadata": {
    "id": "nAVz-xORdkRA"
   },
   "outputs": [],
   "source": [
    "##Commencement : importer les packages\n",
    "\n",
    "import requests \n",
    "import pandas as pd\n",
    "import json   \n",
    "from bs4 import BeautifulSoup \n",
    "from urllib.request import urlopen\n",
    "import re"
   ]
  },
  {
   "cell_type": "markdown",
   "metadata": {
    "id": "-ui9D8XnhYFu"
   },
   "source": [
    "### COMMENCEMENT DU PROGRAMME : Webscrapping sur *AUTOSCOUT24*\n",
    "importer les packages "
   ]
  },
  {
   "cell_type": "code",
   "execution_count": 3,
   "metadata": {
    "id": "CdDzxsh3fiww"
   },
   "outputs": [],
   "source": [
    "website = \"https://www.autoscout24.fr/lst/mercedes-benz?sort=standard&desc=0&ustate=N%2CU&atype=C&cy=F&search_id=cw4927j1c&page=1\""
   ]
  },
  {
   "cell_type": "code",
   "execution_count": 4,
   "metadata": {
    "id": "UfOJtAr1ft6i"
   },
   "outputs": [],
   "source": [
    "response = requests.get(website)"
   ]
  },
  {
   "cell_type": "code",
   "execution_count": 5,
   "metadata": {
    "colab": {
     "base_uri": "https://localhost:8080/"
    },
    "id": "St7PLeGHfzV4",
    "outputId": "11fe21e6-ee67-4e16-8b31-8b7fe5a9d3a9"
   },
   "outputs": [
    {
     "data": {
      "text/plain": [
       "200"
      ]
     },
     "execution_count": 5,
     "metadata": {},
     "output_type": "execute_result"
    }
   ],
   "source": [
    "response.status_code"
   ]
  },
  {
   "cell_type": "code",
   "execution_count": 6,
   "metadata": {
    "id": "rk0VsuRZf1Dk"
   },
   "outputs": [],
   "source": [
    "#soup object\n",
    "\n",
    "soup = BeautifulSoup(response.content,\"html.parser\")"
   ]
  },
  {
   "cell_type": "code",
   "execution_count": 7,
   "metadata": {
    "id": "FA9EoniHf6HA"
   },
   "outputs": [],
   "source": [
    "#resultat\n",
    " \n",
    "results = soup.find_all(\"article\",{\"class\" : \"cldt-summary-full-item listing-impressions-tracking list-page-item ListItem_article__ppamD\" })"
   ]
  },
  {
   "cell_type": "code",
   "execution_count": 8,
   "metadata": {
    "colab": {
     "base_uri": "https://localhost:8080/"
    },
    "id": "PStT7J1Kcczg",
    "outputId": "3704d989-3c36-4801-8a29-2f7096e0a1b7"
   },
   "outputs": [
    {
     "data": {
      "text/plain": [
       "20"
      ]
     },
     "execution_count": 8,
     "metadata": {},
     "output_type": "execute_result"
    }
   ],
   "source": [
    "len(results)"
   ]
  },
  {
   "cell_type": "markdown",
   "metadata": {
    "id": "njm_zF8OKnFg"
   },
   "source": [
    "TARGER NECESSARY \n",
    "\n",
    "- modele \n",
    "- prix du vehicule \n",
    "- annee de sortie \n",
    "- CO2\n",
    "- info sur seller \n",
    "- nombre de revu "
   ]
  },
  {
   "cell_type": "markdown",
   "metadata": {
    "id": "16HMyVGfLEc3"
   },
   "source": [
    "### Generer une boucle et cibler les balises et classes du code source "
   ]
  },
  {
   "cell_type": "code",
   "execution_count": 9,
   "metadata": {
    "id": "qhbkUvMULDTu"
   },
   "outputs": [],
   "source": [
    "name = []\n",
    "prix = []\n",
    "info = []\n",
    "sell = []\n",
    "\n",
    "for i in range(1,30):\n",
    "    \n",
    "    # website dans une variable\n",
    "    website = \"https://www.autoscout24.fr/lst/mercedes-benz?sort=standard&desc=0&ustate=N%2CU&atype=C&cy=F&search_id=cw4927j1c&page=\"+str(i)\n",
    "\n",
    "    # resquest au website\n",
    "    response = requests.get(website)\n",
    "    \n",
    "    # soup object\n",
    "    soup = BeautifulSoup(response.content,\"html.parser\")\n",
    "    \n",
    "    #result\n",
    "    results = soup.find_all(\"article\",{\"class\" : \"cldt-summary-full-item listing-impressions-tracking list-page-item ListItem_article__ppamD\"})\n",
    "    \n",
    "    \n",
    "    for result in results :\n",
    "        try:\n",
    "            prix.append(result.find(\"p\",{\"class\":\"Price_price__WZayw\"}).get_text())\n",
    "        except:\n",
    "            prix.append('n/a')\n",
    "        try:\n",
    "            name.append(result.find(\"h2\").get_text())\n",
    "        except:\n",
    "            name.append('n/a')  \n",
    "        try:\n",
    "            info.append(result.find(\"div\",{\"class\":\"VehicleDetailTable_container__mUUbY\"}).get_text())\n",
    "        except:\n",
    "            info.append('n/a')  \n",
    "        try:\n",
    "            sell.append(result.find(\"span\",{\"class\":\"SellerInfo_name__yjUE6\"}).get_text())\n",
    "        except:\n",
    "            sell.append('n/a')\n",
    "\n"
   ]
  },
  {
   "cell_type": "markdown",
   "metadata": {},
   "source": [
    "#### Nettoyage de données : "
   ]
  },
  {
   "cell_type": "code",
   "execution_count": 10,
   "metadata": {
    "colab": {
     "base_uri": "https://localhost:8080/",
     "height": 235
    },
    "id": "FmHAmOAGWl4Y",
    "outputId": "74385f3a-23be-4cee-c58d-866105074685"
   },
   "outputs": [],
   "source": [
    "car_dealer = pd.DataFrame({\"Modele\":name , \"prix_en_euro\":prix, \"info vehicule\":info, \"Info vendeur\" : sell })"
   ]
  },
  {
   "cell_type": "code",
   "execution_count": 11,
   "metadata": {},
   "outputs": [
    {
     "data": {
      "text/html": [
       "<div>\n",
       "<style scoped>\n",
       "    .dataframe tbody tr th:only-of-type {\n",
       "        vertical-align: middle;\n",
       "    }\n",
       "\n",
       "    .dataframe tbody tr th {\n",
       "        vertical-align: top;\n",
       "    }\n",
       "\n",
       "    .dataframe thead th {\n",
       "        text-align: right;\n",
       "    }\n",
       "</style>\n",
       "<table border=\"1\" class=\"dataframe\">\n",
       "  <thead>\n",
       "    <tr style=\"text-align: right;\">\n",
       "      <th></th>\n",
       "      <th>Modele</th>\n",
       "      <th>prix_en_euro</th>\n",
       "      <th>info vehicule</th>\n",
       "      <th>Info vendeur</th>\n",
       "    </tr>\n",
       "  </thead>\n",
       "  <tbody>\n",
       "    <tr>\n",
       "      <th>0</th>\n",
       "      <td>Mercedes-Benz CLS 53 AMG</td>\n",
       "      <td>€ 69 988,-</td>\n",
       "      <td>23 500 km08/2018320 kW (435 CH)Occasion- (Prop...</td>\n",
       "      <td>Tabor Mobile(79)</td>\n",
       "    </tr>\n",
       "    <tr>\n",
       "      <th>1</th>\n",
       "      <td>Mercedes-Benz CL</td>\n",
       "      <td>n/a</td>\n",
       "      <td>47 000 km02/2015120 kW (163 CH)Occasion- (Prop...</td>\n",
       "      <td>PLANETE AUTO(1)</td>\n",
       "    </tr>\n",
       "    <tr>\n",
       "      <th>2</th>\n",
       "      <td>Mercedes-Benz E 200</td>\n",
       "      <td>€ 34 959,-</td>\n",
       "      <td>48 035 km02/2019135 kW (184 CH)Occasion- (Prop...</td>\n",
       "      <td>Tabor Mobile(79)</td>\n",
       "    </tr>\n",
       "    <tr>\n",
       "      <th>3</th>\n",
       "      <td>Mercedes-Benz C 220</td>\n",
       "      <td>€ 6 990,-</td>\n",
       "      <td>90 000 km01/2002105 kW (143 CH)Occasion1 Propr...</td>\n",
       "      <td>JESSICAR 2020</td>\n",
       "    </tr>\n",
       "    <tr>\n",
       "      <th>4</th>\n",
       "      <td>Mercedes-Benz CLS 350</td>\n",
       "      <td>n/a</td>\n",
       "      <td>92 000 km03/2018210 kW (286 CH)Occasion1 Propr...</td>\n",
       "      <td>Center Car</td>\n",
       "    </tr>\n",
       "    <tr>\n",
       "      <th>...</th>\n",
       "      <td>...</td>\n",
       "      <td>...</td>\n",
       "      <td>...</td>\n",
       "      <td>...</td>\n",
       "    </tr>\n",
       "    <tr>\n",
       "      <th>375</th>\n",
       "      <td>Mercedes-Benz CL</td>\n",
       "      <td>€ 21 900,-</td>\n",
       "      <td>43 176 km12/2019- kW (- CH)Occasion- (Propriét...</td>\n",
       "      <td>MERCEDES MEAUX - AUTOSPHERE</td>\n",
       "    </tr>\n",
       "    <tr>\n",
       "      <th>376</th>\n",
       "      <td>Mercedes-Benz CL</td>\n",
       "      <td>€ 26 999,-</td>\n",
       "      <td>41 312 km06/2019- kW (- CH)Occasion- (Propriét...</td>\n",
       "      <td>PEUGEOT VICHY - AUTOSPHERE(1)</td>\n",
       "    </tr>\n",
       "    <tr>\n",
       "      <th>377</th>\n",
       "      <td>Mercedes-Benz 190</td>\n",
       "      <td>€ 109 990,-</td>\n",
       "      <td>76 000 km01/195677 kW (105 CH)Occasion- (Propr...</td>\n",
       "      <td>DRIVE Automobiles</td>\n",
       "    </tr>\n",
       "    <tr>\n",
       "      <th>378</th>\n",
       "      <td>Mercedes-Benz A 180</td>\n",
       "      <td>€ 26 990,-</td>\n",
       "      <td>64 500 km02/202085 kW (116 CH)Occasion- (Propr...</td>\n",
       "      <td>sasu cg canteleu(1)</td>\n",
       "    </tr>\n",
       "    <tr>\n",
       "      <th>379</th>\n",
       "      <td>Mercedes-Benz CLA 220</td>\n",
       "      <td>n/a</td>\n",
       "      <td>113 165 km08/2009125 kW (170 CH)Occasion- (Pro...</td>\n",
       "      <td>CapCar(9)</td>\n",
       "    </tr>\n",
       "  </tbody>\n",
       "</table>\n",
       "<p>380 rows × 4 columns</p>\n",
       "</div>"
      ],
      "text/plain": [
       "                        Modele prix_en_euro  \\\n",
       "0    Mercedes-Benz CLS 53 AMG    € 69 988,-   \n",
       "1            Mercedes-Benz CL           n/a   \n",
       "2         Mercedes-Benz E 200    € 34 959,-   \n",
       "3         Mercedes-Benz C 220     € 6 990,-   \n",
       "4       Mercedes-Benz CLS 350           n/a   \n",
       "..                         ...          ...   \n",
       "375          Mercedes-Benz CL    € 21 900,-   \n",
       "376          Mercedes-Benz CL    € 26 999,-   \n",
       "377         Mercedes-Benz 190   € 109 990,-   \n",
       "378       Mercedes-Benz A 180    € 26 990,-   \n",
       "379     Mercedes-Benz CLA 220           n/a   \n",
       "\n",
       "                                         info vehicule  \\\n",
       "0    23 500 km08/2018320 kW (435 CH)Occasion- (Prop...   \n",
       "1    47 000 km02/2015120 kW (163 CH)Occasion- (Prop...   \n",
       "2    48 035 km02/2019135 kW (184 CH)Occasion- (Prop...   \n",
       "3    90 000 km01/2002105 kW (143 CH)Occasion1 Propr...   \n",
       "4    92 000 km03/2018210 kW (286 CH)Occasion1 Propr...   \n",
       "..                                                 ...   \n",
       "375  43 176 km12/2019- kW (- CH)Occasion- (Propriét...   \n",
       "376  41 312 km06/2019- kW (- CH)Occasion- (Propriét...   \n",
       "377  76 000 km01/195677 kW (105 CH)Occasion- (Propr...   \n",
       "378  64 500 km02/202085 kW (116 CH)Occasion- (Propr...   \n",
       "379  113 165 km08/2009125 kW (170 CH)Occasion- (Pro...   \n",
       "\n",
       "                      Info vendeur  \n",
       "0                 Tabor Mobile(79)  \n",
       "1                  PLANETE AUTO(1)  \n",
       "2                 Tabor Mobile(79)  \n",
       "3                    JESSICAR 2020  \n",
       "4                       Center Car  \n",
       "..                             ...  \n",
       "375    MERCEDES MEAUX - AUTOSPHERE  \n",
       "376  PEUGEOT VICHY - AUTOSPHERE(1)  \n",
       "377              DRIVE Automobiles  \n",
       "378            sasu cg canteleu(1)  \n",
       "379                      CapCar(9)  \n",
       "\n",
       "[380 rows x 4 columns]"
      ]
     },
     "execution_count": 11,
     "metadata": {},
     "output_type": "execute_result"
    }
   ],
   "source": [
    "car_dealer"
   ]
  },
  {
   "cell_type": "code",
   "execution_count": 12,
   "metadata": {},
   "outputs": [],
   "source": [
    "car_dealer[\"Nombre kilometre\"] = car_dealer[\"info vehicule\"].str.split(\"km\", expand = True)[0]"
   ]
  },
  {
   "cell_type": "code",
   "execution_count": 13,
   "metadata": {},
   "outputs": [],
   "source": [
    "car_dealer[\"Taux_CO2\"] = car_dealer[\"info vehicule\"].str.split(\"km\", expand = True)[2]"
   ]
  },
  {
   "cell_type": "code",
   "execution_count": 14,
   "metadata": {},
   "outputs": [],
   "source": [
    "car_dealer[\"annee\"] = car_dealer[\"info vehicule\"].str.split('km', expand= True)[1]"
   ]
  },
  {
   "cell_type": "code",
   "execution_count": 15,
   "metadata": {},
   "outputs": [],
   "source": [
    "def first_7_chars(string):\n",
    "    return string[:7]"
   ]
  },
  {
   "cell_type": "code",
   "execution_count": 16,
   "metadata": {},
   "outputs": [],
   "source": [
    "car_dealer[\"annee_sortie\"]=car_dealer[\"annee\"].apply(first_7_chars)"
   ]
  },
  {
   "cell_type": "code",
   "execution_count": 17,
   "metadata": {},
   "outputs": [],
   "source": [
    "def caract_entre(between):\n",
    "    return between[7:22]"
   ]
  },
  {
   "cell_type": "code",
   "execution_count": 18,
   "metadata": {},
   "outputs": [],
   "source": [
    "car_dealer[\"puissance\"] = car_dealer[\"annee\"].apply(caract_entre)"
   ]
  },
  {
   "cell_type": "code",
   "execution_count": 19,
   "metadata": {},
   "outputs": [],
   "source": [
    "def delete_first_30_chars(string):\n",
    "    return string[20:]"
   ]
  },
  {
   "cell_type": "code",
   "execution_count": 20,
   "metadata": {},
   "outputs": [],
   "source": [
    "car_dealer[\"annee\"] = car_dealer[\"annee\"].apply(delete_first_30_chars)"
   ]
  },
  {
   "cell_type": "code",
   "execution_count": 21,
   "metadata": {},
   "outputs": [],
   "source": [
    "def delete_first_10_chars(string):\n",
    "    return string[10:]"
   ]
  },
  {
   "cell_type": "code",
   "execution_count": 22,
   "metadata": {},
   "outputs": [],
   "source": [
    "car_dealer[\"annee\"] = car_dealer[\"annee\"].apply(delete_first_10_chars)"
   ]
  },
  {
   "cell_type": "code",
   "execution_count": 23,
   "metadata": {},
   "outputs": [],
   "source": [
    "def delete_2_last_chars(string):\n",
    "    return string[:1]"
   ]
  },
  {
   "cell_type": "code",
   "execution_count": 24,
   "metadata": {},
   "outputs": [],
   "source": [
    "def keep_digits(string):\n",
    "    digits = ''.join(filter(str.isdigit, string))\n",
    "    return pd.to_numeric(digits)"
   ]
  },
  {
   "cell_type": "code",
   "execution_count": 25,
   "metadata": {},
   "outputs": [],
   "source": [
    "car_dealer['Taux_CO2'] = car_dealer['Taux_CO2'].apply(keep_digits)"
   ]
  },
  {
   "cell_type": "code",
   "execution_count": 26,
   "metadata": {},
   "outputs": [],
   "source": [
    "car_dealer['prix_en_euro'] = car_dealer['prix_en_euro'].apply(keep_digits)"
   ]
  },
  {
   "cell_type": "code",
   "execution_count": 70,
   "metadata": {},
   "outputs": [],
   "source": [
    "def extract_words(string, words_list):\n",
    "    words = []\n",
    "    for word in words_list:\n",
    "        if word in string:\n",
    "            words.append(word)\n",
    "    return words"
   ]
  },
  {
   "cell_type": "code",
   "execution_count": 71,
   "metadata": {},
   "outputs": [],
   "source": [
    "car_dealer['Transmission'] = car_dealer['annee'].apply(lambda x: extract_words(x, [\"Semi-automatique\",\"automatique\", \"manuelle\"]))"
   ]
  },
  {
   "cell_type": "code",
   "execution_count": 72,
   "metadata": {},
   "outputs": [],
   "source": [
    "car_dealer['Consommation'] = car_dealer['annee'].apply(lambda x: extract_words(x, [\"Diesel\",\"Essence\", \"Électrique/Essence\",\"Électrique\"]))"
   ]
  },
  {
   "cell_type": "code",
   "execution_count": 73,
   "metadata": {},
   "outputs": [],
   "source": [
    "del car_dealer[\"annee\"]"
   ]
  },
  {
   "cell_type": "code",
   "execution_count": 74,
   "metadata": {},
   "outputs": [],
   "source": [
    "del car_dealer[\"info vehicule\"]"
   ]
  },
  {
   "cell_type": "code",
   "execution_count": 75,
   "metadata": {},
   "outputs": [],
   "source": [
    "## utilisation de regex pour extraire les informations d'une parenthese \n",
    "car_dealer['puissance'] = car_dealer['puissance'].str.extract(r\"\\((.*)\\)\")"
   ]
  },
  {
   "cell_type": "code",
   "execution_count": 76,
   "metadata": {},
   "outputs": [
    {
     "data": {
      "text/html": [
       "<div>\n",
       "<style scoped>\n",
       "    .dataframe tbody tr th:only-of-type {\n",
       "        vertical-align: middle;\n",
       "    }\n",
       "\n",
       "    .dataframe tbody tr th {\n",
       "        vertical-align: top;\n",
       "    }\n",
       "\n",
       "    .dataframe thead th {\n",
       "        text-align: right;\n",
       "    }\n",
       "</style>\n",
       "<table border=\"1\" class=\"dataframe\">\n",
       "  <thead>\n",
       "    <tr style=\"text-align: right;\">\n",
       "      <th></th>\n",
       "      <th>Modele</th>\n",
       "      <th>prix_en_euro</th>\n",
       "      <th>Info vendeur</th>\n",
       "      <th>Nombre kilometre</th>\n",
       "      <th>Taux_CO2</th>\n",
       "      <th>annee_sortie</th>\n",
       "      <th>puissance</th>\n",
       "      <th>Transmission</th>\n",
       "      <th>Consommation</th>\n",
       "    </tr>\n",
       "  </thead>\n",
       "  <tbody>\n",
       "    <tr>\n",
       "      <th>0</th>\n",
       "      <td>Mercedes-Benz AMG GT</td>\n",
       "      <td>109990.0</td>\n",
       "      <td>SASU</td>\n",
       "      <td>45 000</td>\n",
       "      <td>224.0</td>\n",
       "      <td>04/2016</td>\n",
       "      <td>510 CH</td>\n",
       "      <td>[automatique]</td>\n",
       "      <td>[Essence]</td>\n",
       "    </tr>\n",
       "    <tr>\n",
       "      <th>1</th>\n",
       "      <td>Mercedes-Benz S 63 AMG</td>\n",
       "      <td>179900.0</td>\n",
       "      <td>PARIS PRESTIGE CARS(9)</td>\n",
       "      <td>8 981</td>\n",
       "      <td>253.0</td>\n",
       "      <td>10/2019</td>\n",
       "      <td>612 CH</td>\n",
       "      <td>[automatique]</td>\n",
       "      <td>[Essence]</td>\n",
       "    </tr>\n",
       "    <tr>\n",
       "      <th>2</th>\n",
       "      <td>Mercedes-Benz CLK</td>\n",
       "      <td>15990.0</td>\n",
       "      <td>Agence Automobilière de Senlis(2)</td>\n",
       "      <td>85 000</td>\n",
       "      <td>276.0</td>\n",
       "      <td>10/2002</td>\n",
       "      <td>306 CH</td>\n",
       "      <td>[automatique]</td>\n",
       "      <td>[]</td>\n",
       "    </tr>\n",
       "    <tr>\n",
       "      <th>3</th>\n",
       "      <td>Mercedes-Benz G 63 AMG</td>\n",
       "      <td>899500.0</td>\n",
       "      <td>PARIS PRESTIGE CARS(9)</td>\n",
       "      <td>315</td>\n",
       "      <td>NaN</td>\n",
       "      <td>12/2021</td>\n",
       "      <td>799 CH</td>\n",
       "      <td>[automatique]</td>\n",
       "      <td>[Essence]</td>\n",
       "    </tr>\n",
       "    <tr>\n",
       "      <th>4</th>\n",
       "      <td>Mercedes-Benz S 320</td>\n",
       "      <td>14990.0</td>\n",
       "      <td>PACK AUTOS</td>\n",
       "      <td>47 000</td>\n",
       "      <td>266.0</td>\n",
       "      <td>08/2002</td>\n",
       "      <td>223 CH</td>\n",
       "      <td>[automatique]</td>\n",
       "      <td>[Essence]</td>\n",
       "    </tr>\n",
       "    <tr>\n",
       "      <th>...</th>\n",
       "      <td>...</td>\n",
       "      <td>...</td>\n",
       "      <td>...</td>\n",
       "      <td>...</td>\n",
       "      <td>...</td>\n",
       "      <td>...</td>\n",
       "      <td>...</td>\n",
       "      <td>...</td>\n",
       "      <td>...</td>\n",
       "    </tr>\n",
       "    <tr>\n",
       "      <th>395</th>\n",
       "      <td>Mercedes-Benz CL</td>\n",
       "      <td>24990.0</td>\n",
       "      <td>MERCEDES LA ROCHELLE - AUTOSPHERE(3)</td>\n",
       "      <td>85 270</td>\n",
       "      <td>NaN</td>\n",
       "      <td>12/2016</td>\n",
       "      <td>- CH</td>\n",
       "      <td>[automatique]</td>\n",
       "      <td>[Diesel]</td>\n",
       "    </tr>\n",
       "    <tr>\n",
       "      <th>396</th>\n",
       "      <td>Mercedes-Benz CL</td>\n",
       "      <td>21900.0</td>\n",
       "      <td>MERCEDES MEAUX - AUTOSPHERE</td>\n",
       "      <td>43 176</td>\n",
       "      <td>NaN</td>\n",
       "      <td>12/2019</td>\n",
       "      <td>- CH</td>\n",
       "      <td>[manuelle]</td>\n",
       "      <td>[Essence]</td>\n",
       "    </tr>\n",
       "    <tr>\n",
       "      <th>397</th>\n",
       "      <td>Mercedes-Benz CL</td>\n",
       "      <td>26999.0</td>\n",
       "      <td>PEUGEOT VICHY - AUTOSPHERE(1)</td>\n",
       "      <td>41 312</td>\n",
       "      <td>NaN</td>\n",
       "      <td>06/2019</td>\n",
       "      <td>- CH</td>\n",
       "      <td>[automatique]</td>\n",
       "      <td>[Diesel]</td>\n",
       "    </tr>\n",
       "    <tr>\n",
       "      <th>398</th>\n",
       "      <td>Mercedes-Benz 190</td>\n",
       "      <td>109990.0</td>\n",
       "      <td>DRIVE Automobiles</td>\n",
       "      <td>76 000</td>\n",
       "      <td>NaN</td>\n",
       "      <td>01/1956</td>\n",
       "      <td>105 CH</td>\n",
       "      <td>[manuelle]</td>\n",
       "      <td>[Essence]</td>\n",
       "    </tr>\n",
       "    <tr>\n",
       "      <th>399</th>\n",
       "      <td>Mercedes-Benz A 180</td>\n",
       "      <td>26990.0</td>\n",
       "      <td>sasu cg canteleu(1)</td>\n",
       "      <td>64 500</td>\n",
       "      <td>NaN</td>\n",
       "      <td>02/2020</td>\n",
       "      <td>116 CH</td>\n",
       "      <td>[automatique]</td>\n",
       "      <td>[Diesel]</td>\n",
       "    </tr>\n",
       "  </tbody>\n",
       "</table>\n",
       "<p>400 rows × 9 columns</p>\n",
       "</div>"
      ],
      "text/plain": [
       "                      Modele  prix_en_euro  \\\n",
       "0      Mercedes-Benz AMG GT       109990.0   \n",
       "1    Mercedes-Benz S 63 AMG       179900.0   \n",
       "2         Mercedes-Benz CLK        15990.0   \n",
       "3    Mercedes-Benz G 63 AMG       899500.0   \n",
       "4       Mercedes-Benz S 320        14990.0   \n",
       "..                       ...           ...   \n",
       "395        Mercedes-Benz CL        24990.0   \n",
       "396        Mercedes-Benz CL        21900.0   \n",
       "397        Mercedes-Benz CL        26999.0   \n",
       "398       Mercedes-Benz 190       109990.0   \n",
       "399     Mercedes-Benz A 180        26990.0   \n",
       "\n",
       "                             Info vendeur Nombre kilometre  Taux_CO2  \\\n",
       "0                                    SASU          45 000      224.0   \n",
       "1                  PARIS PRESTIGE CARS(9)           8 981      253.0   \n",
       "2       Agence Automobilière de Senlis(2)          85 000      276.0   \n",
       "3                  PARIS PRESTIGE CARS(9)             315        NaN   \n",
       "4                              PACK AUTOS          47 000      266.0   \n",
       "..                                    ...              ...       ...   \n",
       "395  MERCEDES LA ROCHELLE - AUTOSPHERE(3)          85 270        NaN   \n",
       "396           MERCEDES MEAUX - AUTOSPHERE          43 176        NaN   \n",
       "397         PEUGEOT VICHY - AUTOSPHERE(1)          41 312        NaN   \n",
       "398                     DRIVE Automobiles          76 000        NaN   \n",
       "399                   sasu cg canteleu(1)          64 500        NaN   \n",
       "\n",
       "    annee_sortie puissance   Transmission Consommation  \n",
       "0        04/2016    510 CH  [automatique]    [Essence]  \n",
       "1        10/2019    612 CH  [automatique]    [Essence]  \n",
       "2        10/2002    306 CH  [automatique]           []  \n",
       "3        12/2021    799 CH  [automatique]    [Essence]  \n",
       "4        08/2002    223 CH  [automatique]    [Essence]  \n",
       "..           ...       ...            ...          ...  \n",
       "395      12/2016      - CH  [automatique]     [Diesel]  \n",
       "396      12/2019      - CH     [manuelle]    [Essence]  \n",
       "397      06/2019      - CH  [automatique]     [Diesel]  \n",
       "398      01/1956    105 CH     [manuelle]    [Essence]  \n",
       "399      02/2020    116 CH  [automatique]     [Diesel]  \n",
       "\n",
       "[400 rows x 9 columns]"
      ]
     },
     "execution_count": 76,
     "metadata": {},
     "output_type": "execute_result"
    }
   ],
   "source": [
    "car_dealer"
   ]
  },
  {
   "cell_type": "markdown",
   "metadata": {},
   "source": [
    "La base de données étant propre, nous pouvons désormais basculer sur un logiciel pour créer des visualisation"
   ]
  },
  {
   "cell_type": "code",
   "execution_count": 77,
   "metadata": {},
   "outputs": [],
   "source": [
    "# exportation sous excel\n",
    "#car_dealer.to_excel(\"autoscout_excel_2.xlsx\", index= False)\n",
    "#car_dealer.to_csv('car_dealer.csv',encoding='utf-8')"
   ]
  },
  {
   "cell_type": "code",
   "execution_count": 1,
   "metadata": {},
   "outputs": [
    {
     "ename": "NameError",
     "evalue": "name 'car_dealer' is not defined",
     "output_type": "error",
     "traceback": [
      "\u001b[1;31m---------------------------------------------------------------------------\u001b[0m",
      "\u001b[1;31mNameError\u001b[0m                                 Traceback (most recent call last)",
      "\u001b[1;32m<ipython-input-1-f9a87547d95a>\u001b[0m in \u001b[0;36m<module>\u001b[1;34m\u001b[0m\n\u001b[1;32m----> 1\u001b[1;33m \u001b[0mcar_dealer\u001b[0m\u001b[1;33m[\u001b[0m\u001b[1;34m'Nombre kilometre'\u001b[0m\u001b[1;33m]\u001b[0m \u001b[1;33m=\u001b[0m \u001b[0mcar_dealer\u001b[0m\u001b[1;33m[\u001b[0m\u001b[1;34m'Nombre kilometre'\u001b[0m\u001b[1;33m]\u001b[0m\u001b[1;33m.\u001b[0m\u001b[0mstr\u001b[0m\u001b[1;33m.\u001b[0m\u001b[0mstrip\u001b[0m\u001b[1;33m(\u001b[0m\u001b[1;33m)\u001b[0m\u001b[1;33m\u001b[0m\u001b[1;33m\u001b[0m\u001b[0m\n\u001b[0m",
      "\u001b[1;31mNameError\u001b[0m: name 'car_dealer' is not defined"
     ]
    }
   ],
   "source": [
    "car_dealer['Nombre kilometre'] = car_dealer['Nombre kilometre'].str.strip()\n"
   ]
  }
 ],
 "metadata": {
  "colab": {
   "provenance": []
  },
  "kernelspec": {
   "display_name": "Python 3",
   "language": "python",
   "name": "python3"
  },
  "language_info": {
   "codemirror_mode": {
    "name": "ipython",
    "version": 3
   },
   "file_extension": ".py",
   "mimetype": "text/x-python",
   "name": "python",
   "nbconvert_exporter": "python",
   "pygments_lexer": "ipython3",
   "version": "3.7.6"
  }
 },
 "nbformat": 4,
 "nbformat_minor": 1
}
