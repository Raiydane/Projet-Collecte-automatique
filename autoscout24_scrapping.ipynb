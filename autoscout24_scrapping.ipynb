{
 "cells": [
  {
   "cell_type": "code",
   "execution_count": 71,
   "metadata": {
    "id": "nAVz-xORdkRA"
   },
   "outputs": [],
   "source": [
    "##Commencement : importer les packages\n",
    "\n",
    "import requests \n",
    "import pandas as pd\n",
    "import json   \n",
    "from bs4 import BeautifulSoup \n",
    "from urllib.request import urlopen\n",
    "import re"
   ]
  },
  {
   "cell_type": "markdown",
   "metadata": {
    "id": "-ui9D8XnhYFu"
   },
   "source": [
    "### COMMENCEMENT DU PROGRAMME : Webscrapping sur *AUTOSCOUT24*\n",
    "importer les packages "
   ]
  },
  {
   "cell_type": "code",
   "execution_count": 72,
   "metadata": {
    "id": "CdDzxsh3fiww"
   },
   "outputs": [],
   "source": [
    "website = \"https://www.autoscout24.fr/lst/mercedes-benz?sort=standard&desc=0&ustate=N%2CU&atype=C&cy=F&search_id=cw4927j1c&page=1\""
   ]
  },
  {
   "cell_type": "code",
   "execution_count": 73,
   "metadata": {
    "id": "UfOJtAr1ft6i"
   },
   "outputs": [],
   "source": [
    "response = requests.get(website)"
   ]
  },
  {
   "cell_type": "code",
   "execution_count": 74,
   "metadata": {
    "colab": {
     "base_uri": "https://localhost:8080/"
    },
    "id": "St7PLeGHfzV4",
    "outputId": "11fe21e6-ee67-4e16-8b31-8b7fe5a9d3a9"
   },
   "outputs": [
    {
     "data": {
      "text/plain": [
       "200"
      ]
     },
     "execution_count": 74,
     "metadata": {},
     "output_type": "execute_result"
    }
   ],
   "source": [
    "response.status_code"
   ]
  },
  {
   "cell_type": "code",
   "execution_count": 75,
   "metadata": {
    "id": "rk0VsuRZf1Dk"
   },
   "outputs": [],
   "source": [
    "#soup object\n",
    "\n",
    "soup = BeautifulSoup(response.content,\"html.parser\")"
   ]
  },
  {
   "cell_type": "code",
   "execution_count": 76,
   "metadata": {
    "id": "FA9EoniHf6HA"
   },
   "outputs": [],
   "source": [
    "#resultat\n",
    " \n",
    "results = soup.find_all(\"article\",{\"class\" : \"cldt-summary-full-item listing-impressions-tracking list-page-item ListItem_article__ppamD\" })"
   ]
  },
  {
   "cell_type": "code",
   "execution_count": 77,
   "metadata": {
    "colab": {
     "base_uri": "https://localhost:8080/"
    },
    "id": "PStT7J1Kcczg",
    "outputId": "3704d989-3c36-4801-8a29-2f7096e0a1b7"
   },
   "outputs": [
    {
     "data": {
      "text/plain": [
       "20"
      ]
     },
     "execution_count": 77,
     "metadata": {},
     "output_type": "execute_result"
    }
   ],
   "source": [
    "len(results)"
   ]
  },
  {
   "cell_type": "markdown",
   "metadata": {
    "id": "njm_zF8OKnFg"
   },
   "source": [
    "TARGER NECESSARY \n",
    "\n",
    "- modele \n",
    "- prix du vehicule \n",
    "- annee de sortie \n",
    "- CO2\n",
    "- info sur seller \n",
    "- nombre de revu "
   ]
  },
  {
   "cell_type": "markdown",
   "metadata": {
    "id": "16HMyVGfLEc3"
   },
   "source": [
    "### Generer une boucle et cibler les balises et classes du code source "
   ]
  },
  {
   "cell_type": "code",
   "execution_count": 78,
   "metadata": {
    "id": "qhbkUvMULDTu"
   },
   "outputs": [],
   "source": [
    "name = []\n",
    "prix = []\n",
    "info = []\n",
    "sell = []\n",
    "\n",
    "for i in range(1,30):\n",
    "    \n",
    "    # website dans une variable\n",
    "    website = \"https://www.autoscout24.fr/lst/mercedes-benz?sort=standard&desc=0&ustate=N%2CU&atype=C&cy=F&search_id=cw4927j1c&page=\"+str(i)\n",
    "\n",
    "    # resquest au website\n",
    "    response = requests.get(website)\n",
    "    \n",
    "    # soup object\n",
    "    soup = BeautifulSoup(response.content,\"html.parser\")\n",
    "    \n",
    "    #result\n",
    "    results = soup.find_all(\"article\",{\"class\" : \"cldt-summary-full-item listing-impressions-tracking list-page-item ListItem_article__ppamD\"})\n",
    "    \n",
    "    \n",
    "    for result in results :\n",
    "        try:\n",
    "            prix.append(result.find(\"p\",{\"class\":\"Price_price__WZayw\"}).get_text())\n",
    "        except:\n",
    "            prix.append('n/a')\n",
    "        try:\n",
    "            name.append(result.find(\"h2\").get_text())\n",
    "        except:\n",
    "            name.append('n/a')  \n",
    "        try:\n",
    "            info.append(result.find(\"div\",{\"class\":\"VehicleDetailTable_container__mUUbY\"}).get_text())\n",
    "        except:\n",
    "            info.append('n/a')  \n",
    "        try:\n",
    "            sell.append(result.find(\"span\",{\"class\":\"SellerInfo_name__yjUE6\"}).get_text())\n",
    "        except:\n",
    "            sell.append('n/a')\n",
    "\n"
   ]
  },
  {
   "cell_type": "markdown",
   "metadata": {},
   "source": [
    "#### Nettoyage de données : "
   ]
  },
  {
   "cell_type": "code",
   "execution_count": 89,
   "metadata": {
    "colab": {
     "base_uri": "https://localhost:8080/",
     "height": 235
    },
    "id": "FmHAmOAGWl4Y",
    "outputId": "74385f3a-23be-4cee-c58d-866105074685"
   },
   "outputs": [],
   "source": [
    "car_dealer = pd.DataFrame({\"Modele\":name , \"prix_en_euro\":prix, \"info vehicule\":info, \"Info vendeur\" : sell })"
   ]
  },
  {
   "cell_type": "code",
   "execution_count": 90,
   "metadata": {},
   "outputs": [],
   "source": [
    "## récupérer le kilométrage\n",
    "car_dealer[\"Nombre kilometre\"] = car_dealer[\"info vehicule\"].str.split(\"km\", expand = True)[0]"
   ]
  },
  {
   "cell_type": "code",
   "execution_count": 91,
   "metadata": {},
   "outputs": [],
   "source": [
    "car_dealer[\"Taux_CO2\"] = car_dealer[\"info vehicule\"].str.split(\"km\", expand = True)[2]"
   ]
  },
  {
   "cell_type": "code",
   "execution_count": 92,
   "metadata": {},
   "outputs": [],
   "source": [
    "car_dealer[\"annee\"] = car_dealer[\"info vehicule\"].str.split('km', expand= True)[1]"
   ]
  },
  {
   "cell_type": "code",
   "execution_count": 93,
   "metadata": {},
   "outputs": [],
   "source": [
    "def first_7_chars(string):\n",
    "    return string[:7]"
   ]
  },
  {
   "cell_type": "code",
   "execution_count": 94,
   "metadata": {},
   "outputs": [],
   "source": [
    "## récupérer l'année de sortie du véhicule\n",
    "car_dealer[\"annee_sortie\"]=car_dealer[\"annee\"].apply(first_7_chars)"
   ]
  },
  {
   "cell_type": "code",
   "execution_count": 95,
   "metadata": {},
   "outputs": [],
   "source": [
    "def caract_entre(between):\n",
    "    return between[7:22]"
   ]
  },
  {
   "cell_type": "code",
   "execution_count": 96,
   "metadata": {},
   "outputs": [],
   "source": [
    "## récupérer la puissance en chevaux\n",
    "car_dealer[\"puissance\"] = car_dealer[\"annee\"].apply(caract_entre)"
   ]
  },
  {
   "cell_type": "code",
   "execution_count": 97,
   "metadata": {},
   "outputs": [],
   "source": [
    "def delete_first_30_chars(string):\n",
    "    return string[20:]"
   ]
  },
  {
   "cell_type": "code",
   "execution_count": 98,
   "metadata": {},
   "outputs": [],
   "source": [
    "car_dealer[\"annee\"] = car_dealer[\"annee\"].apply(delete_first_30_chars)"
   ]
  },
  {
   "cell_type": "code",
   "execution_count": 99,
   "metadata": {},
   "outputs": [],
   "source": [
    "def delete_first_10_chars(string):\n",
    "    return string[10:]"
   ]
  },
  {
   "cell_type": "code",
   "execution_count": 100,
   "metadata": {},
   "outputs": [],
   "source": [
    "car_dealer[\"annee\"] = car_dealer[\"annee\"].apply(delete_first_10_chars)"
   ]
  },
  {
   "cell_type": "code",
   "execution_count": 101,
   "metadata": {},
   "outputs": [],
   "source": [
    "def delete_2_last_chars(string):\n",
    "    return string[:1]"
   ]
  },
  {
   "cell_type": "code",
   "execution_count": 102,
   "metadata": {},
   "outputs": [],
   "source": [
    "### fonction récupérant uniquement les chiffres\n",
    "def keep_digits(string):\n",
    "    digits = ''.join(filter(str.isdigit, string))\n",
    "    return pd.to_numeric(digits)"
   ]
  },
  {
   "cell_type": "code",
   "execution_count": 103,
   "metadata": {},
   "outputs": [],
   "source": [
    "car_dealer['Taux_CO2'] = car_dealer['Taux_CO2'].apply(keep_digits)"
   ]
  },
  {
   "cell_type": "code",
   "execution_count": 104,
   "metadata": {},
   "outputs": [],
   "source": [
    "car_dealer['prix_en_euro'] = car_dealer['prix_en_euro'].apply(keep_digits)"
   ]
  },
  {
   "cell_type": "code",
   "execution_count": 105,
   "metadata": {},
   "outputs": [],
   "source": [
    "def extract_words(string, words_list):\n",
    "    words = []\n",
    "    for word in words_list:\n",
    "        if word in string:\n",
    "            words.append(word)\n",
    "    return words"
   ]
  },
  {
   "cell_type": "code",
   "execution_count": 106,
   "metadata": {},
   "outputs": [],
   "source": [
    "## récupérer la \"transmission\" se trouvant dans la colonne \"année\"\n",
    "car_dealer['Transmission'] = car_dealer['annee'].apply(lambda x: extract_words(x, [\"Semi-automatique\",\"automatique\", \"manuelle\"]))"
   ]
  },
  {
   "cell_type": "code",
   "execution_count": 107,
   "metadata": {},
   "outputs": [],
   "source": [
    "## récupérer la \"consommation\" se trouvant dans la colonne \"année\"\n",
    "\n",
    "car_dealer['Consommation'] = car_dealer['annee'].apply(lambda x: extract_words(x, [\"Diesel\",\"Essence\", \"Électrique/Essence\",\"Électrique\"]))"
   ]
  },
  {
   "cell_type": "code",
   "execution_count": 108,
   "metadata": {},
   "outputs": [],
   "source": [
    "del car_dealer[\"annee\"]"
   ]
  },
  {
   "cell_type": "code",
   "execution_count": 109,
   "metadata": {},
   "outputs": [],
   "source": [
    "del car_dealer[\"info vehicule\"]"
   ]
  },
  {
   "cell_type": "code",
   "execution_count": 110,
   "metadata": {},
   "outputs": [],
   "source": [
    "## utilisation de regex pour extraire les informations d'une parenthese \n",
    "car_dealer['puissance'] = car_dealer['puissance'].str.extract(r\"\\((.*)\\)\")"
   ]
  },
  {
   "cell_type": "code",
   "execution_count": 111,
   "metadata": {},
   "outputs": [
    {
     "data": {
      "text/html": [
       "<div>\n",
       "<style scoped>\n",
       "    .dataframe tbody tr th:only-of-type {\n",
       "        vertical-align: middle;\n",
       "    }\n",
       "\n",
       "    .dataframe tbody tr th {\n",
       "        vertical-align: top;\n",
       "    }\n",
       "\n",
       "    .dataframe thead th {\n",
       "        text-align: right;\n",
       "    }\n",
       "</style>\n",
       "<table border=\"1\" class=\"dataframe\">\n",
       "  <thead>\n",
       "    <tr style=\"text-align: right;\">\n",
       "      <th></th>\n",
       "      <th>Modele</th>\n",
       "      <th>prix_en_euro</th>\n",
       "      <th>Info vendeur</th>\n",
       "      <th>Nombre kilometre</th>\n",
       "      <th>Taux_CO2</th>\n",
       "      <th>annee_sortie</th>\n",
       "      <th>puissance</th>\n",
       "      <th>Transmission</th>\n",
       "      <th>Consommation</th>\n",
       "    </tr>\n",
       "  </thead>\n",
       "  <tbody>\n",
       "    <tr>\n",
       "      <th>0</th>\n",
       "      <td>Mercedes-Benz AMG GT</td>\n",
       "      <td>109990.0</td>\n",
       "      <td>SASU</td>\n",
       "      <td>45 000</td>\n",
       "      <td>224.0</td>\n",
       "      <td>04/2016</td>\n",
       "      <td>510 CH</td>\n",
       "      <td>[automatique]</td>\n",
       "      <td>[Essence]</td>\n",
       "    </tr>\n",
       "    <tr>\n",
       "      <th>1</th>\n",
       "      <td>Mercedes-Benz CLK</td>\n",
       "      <td>15990.0</td>\n",
       "      <td>Agence Automobilière de Senlis(2)</td>\n",
       "      <td>85 000</td>\n",
       "      <td>276.0</td>\n",
       "      <td>10/2002</td>\n",
       "      <td>306 CH</td>\n",
       "      <td>[automatique]</td>\n",
       "      <td>[]</td>\n",
       "    </tr>\n",
       "    <tr>\n",
       "      <th>2</th>\n",
       "      <td>Mercedes-Benz G 63 AMG</td>\n",
       "      <td>899500.0</td>\n",
       "      <td>PARIS PRESTIGE CARS(9)</td>\n",
       "      <td>315</td>\n",
       "      <td>NaN</td>\n",
       "      <td>12/2021</td>\n",
       "      <td>799 CH</td>\n",
       "      <td>[automatique]</td>\n",
       "      <td>[Essence]</td>\n",
       "    </tr>\n",
       "    <tr>\n",
       "      <th>3</th>\n",
       "      <td>Mercedes-Benz S 320</td>\n",
       "      <td>14990.0</td>\n",
       "      <td>PACK AUTOS</td>\n",
       "      <td>47 000</td>\n",
       "      <td>266.0</td>\n",
       "      <td>08/2002</td>\n",
       "      <td>223 CH</td>\n",
       "      <td>[automatique]</td>\n",
       "      <td>[Essence]</td>\n",
       "    </tr>\n",
       "    <tr>\n",
       "      <th>4</th>\n",
       "      <td>Mercedes-Benz CL</td>\n",
       "      <td>36490.0</td>\n",
       "      <td>MERCEDES SAINT MAXIMIN - AUTOSPHERE(3)</td>\n",
       "      <td>7 000</td>\n",
       "      <td>NaN</td>\n",
       "      <td>01/2023</td>\n",
       "      <td>- CH</td>\n",
       "      <td>[automatique]</td>\n",
       "      <td>[Diesel]</td>\n",
       "    </tr>\n",
       "    <tr>\n",
       "      <th>...</th>\n",
       "      <td>...</td>\n",
       "      <td>...</td>\n",
       "      <td>...</td>\n",
       "      <td>...</td>\n",
       "      <td>...</td>\n",
       "      <td>...</td>\n",
       "      <td>...</td>\n",
       "      <td>...</td>\n",
       "      <td>...</td>\n",
       "    </tr>\n",
       "    <tr>\n",
       "      <th>395</th>\n",
       "      <td>Mercedes-Benz A 180</td>\n",
       "      <td>26990.0</td>\n",
       "      <td>sasu cg canteleu(1)</td>\n",
       "      <td>64 500</td>\n",
       "      <td>NaN</td>\n",
       "      <td>02/2020</td>\n",
       "      <td>116 CH</td>\n",
       "      <td>[automatique]</td>\n",
       "      <td>[Diesel]</td>\n",
       "    </tr>\n",
       "    <tr>\n",
       "      <th>396</th>\n",
       "      <td>Mercedes-Benz CLA 220</td>\n",
       "      <td>NaN</td>\n",
       "      <td>CapCar(9)</td>\n",
       "      <td>113 165</td>\n",
       "      <td>182.0</td>\n",
       "      <td>08/2009</td>\n",
       "      <td>170 CH</td>\n",
       "      <td>[automatique]</td>\n",
       "      <td>[Diesel]</td>\n",
       "    </tr>\n",
       "    <tr>\n",
       "      <th>397</th>\n",
       "      <td>Mercedes-Benz Vito</td>\n",
       "      <td>59990.0</td>\n",
       "      <td>RENAULT THIONVILLE - AUTOSPHERE(2)</td>\n",
       "      <td>10</td>\n",
       "      <td>NaN</td>\n",
       "      <td>08/2022</td>\n",
       "      <td>- CH</td>\n",
       "      <td>[automatique]</td>\n",
       "      <td>[Diesel]</td>\n",
       "    </tr>\n",
       "    <tr>\n",
       "      <th>398</th>\n",
       "      <td>Mercedes-Benz Vito</td>\n",
       "      <td>36990.0</td>\n",
       "      <td>MERCEDES AMIENS - AUTOSPHERE</td>\n",
       "      <td>89 785</td>\n",
       "      <td>NaN</td>\n",
       "      <td>07/2019</td>\n",
       "      <td>- CH</td>\n",
       "      <td>[automatique]</td>\n",
       "      <td>[Diesel]</td>\n",
       "    </tr>\n",
       "    <tr>\n",
       "      <th>399</th>\n",
       "      <td>Mercedes-Benz Vito</td>\n",
       "      <td>38811.0</td>\n",
       "      <td>Tabor Mobile(79)</td>\n",
       "      <td>10</td>\n",
       "      <td>195.0</td>\n",
       "      <td>12/2022</td>\n",
       "      <td>136 CH</td>\n",
       "      <td>[manuelle]</td>\n",
       "      <td>[Diesel]</td>\n",
       "    </tr>\n",
       "  </tbody>\n",
       "</table>\n",
       "<p>400 rows × 9 columns</p>\n",
       "</div>"
      ],
      "text/plain": [
       "                      Modele  prix_en_euro  \\\n",
       "0      Mercedes-Benz AMG GT       109990.0   \n",
       "1         Mercedes-Benz CLK        15990.0   \n",
       "2    Mercedes-Benz G 63 AMG       899500.0   \n",
       "3       Mercedes-Benz S 320        14990.0   \n",
       "4          Mercedes-Benz CL        36490.0   \n",
       "..                       ...           ...   \n",
       "395     Mercedes-Benz A 180        26990.0   \n",
       "396   Mercedes-Benz CLA 220            NaN   \n",
       "397      Mercedes-Benz Vito        59990.0   \n",
       "398      Mercedes-Benz Vito        36990.0   \n",
       "399      Mercedes-Benz Vito        38811.0   \n",
       "\n",
       "                               Info vendeur Nombre kilometre  Taux_CO2  \\\n",
       "0                                      SASU          45 000      224.0   \n",
       "1         Agence Automobilière de Senlis(2)          85 000      276.0   \n",
       "2                    PARIS PRESTIGE CARS(9)             315        NaN   \n",
       "3                                PACK AUTOS          47 000      266.0   \n",
       "4    MERCEDES SAINT MAXIMIN - AUTOSPHERE(3)           7 000        NaN   \n",
       "..                                      ...              ...       ...   \n",
       "395                     sasu cg canteleu(1)          64 500        NaN   \n",
       "396                               CapCar(9)         113 165      182.0   \n",
       "397      RENAULT THIONVILLE - AUTOSPHERE(2)              10        NaN   \n",
       "398            MERCEDES AMIENS - AUTOSPHERE          89 785        NaN   \n",
       "399                        Tabor Mobile(79)              10      195.0   \n",
       "\n",
       "    annee_sortie puissance   Transmission Consommation  \n",
       "0        04/2016    510 CH  [automatique]    [Essence]  \n",
       "1        10/2002    306 CH  [automatique]           []  \n",
       "2        12/2021    799 CH  [automatique]    [Essence]  \n",
       "3        08/2002    223 CH  [automatique]    [Essence]  \n",
       "4        01/2023      - CH  [automatique]     [Diesel]  \n",
       "..           ...       ...            ...          ...  \n",
       "395      02/2020    116 CH  [automatique]     [Diesel]  \n",
       "396      08/2009    170 CH  [automatique]     [Diesel]  \n",
       "397      08/2022      - CH  [automatique]     [Diesel]  \n",
       "398      07/2019      - CH  [automatique]     [Diesel]  \n",
       "399      12/2022    136 CH     [manuelle]     [Diesel]  \n",
       "\n",
       "[400 rows x 9 columns]"
      ]
     },
     "execution_count": 111,
     "metadata": {},
     "output_type": "execute_result"
    }
   ],
   "source": [
    "car_dealer"
   ]
  },
  {
   "cell_type": "markdown",
   "metadata": {},
   "source": [
    "La base de données étant propre, nous allons faire les derniers ajustement via Microsoft Excel.\n",
    "L'étape suivante sera de basculer sur un logiciel pour créer des visualisation. Exemple: Tableau"
   ]
  },
  {
   "cell_type": "code",
   "execution_count": 77,
   "metadata": {},
   "outputs": [],
   "source": [
    "# exportation sous excel\n",
    "#car_dealer.to_excel(\"autoscout_excel_2.xlsx\", index= False)\n",
    "#car_dealer.to_csv('car_dealer.csv',encoding='utf-8')"
   ]
  }
 ],
 "metadata": {
  "colab": {
   "provenance": []
  },
  "kernelspec": {
   "display_name": "Python 3",
   "language": "python",
   "name": "python3"
  },
  "language_info": {
   "codemirror_mode": {
    "name": "ipython",
    "version": 3
   },
   "file_extension": ".py",
   "mimetype": "text/x-python",
   "name": "python",
   "nbconvert_exporter": "python",
   "pygments_lexer": "ipython3",
   "version": "3.7.6"
  }
 },
 "nbformat": 4,
 "nbformat_minor": 1
}
